{
 "cells": [
  {
   "cell_type": "code",
   "execution_count": null,
   "id": "5d2b194b-8d76-4408-9fd6-f8a1264aa506",
   "metadata": {},
   "outputs": [],
   "source": [
    "#Create and connect Mysql DataBase\n",
    "import mysql.connector\n",
    "mydb = mysql.connector.connect(\n",
    "    host = \"localhost\",\n",
    "    user = \"root\",\n",
    "    password = \"\",\n",
    ")\n",
    "mycursor = mydb.cursor(buffered=True)\n",
    "mycursor.execute(\"CREATE DATABASE RED_BUS_PROJECT\") #creating database\n",
    "\n",
    "mycursor.execute(\"use RED_BUS_PROJECT\")\n",
    "#create table inside the database\n",
    "mycursor.execute('''CREATE TABLE Bus_Details(ID INT AUTO_INCREMENT PRIMARY KEY,\n",
    "Route_Name TEXT NULL,\n",
    "Route_Link TEXT NULL,\n",
    "Bus_Name VARCHAR(255) NOT NULL,\n",
    "Bus_Type VARCHAR(255) NOT NULL,\n",
    "Departing_Time TIME NOT NULL,\n",
    "Duration VARCHAR(255) NOT NULL,\n",
    "Reaching_Time TIME NOT NULL,\n",
    "Star_Rating FLOAT NULL,\n",
    "Price FLOAT NULL,\n",
    "Seats_available INT(8) NULL\n",
    ")''')"
   ]
  },
  {
   "cell_type": "code",
   "execution_count": null,
   "id": "1cfeb32c-b01e-46ce-a1bd-777a306dc67a",
   "metadata": {},
   "outputs": [],
   "source": [
    "#function to reconnect in case of any connection issue\n",
    "def reconnect():\n",
    "    global mydb, mycursor\n",
    "    mydb = mysql.connector.connect(\n",
    "        host = \"localhost\",\n",
    "        user = \"root\",\n",
    "        password = \"\",\n",
    "        database = \"red_bus_project\"\n",
    "    )\n",
    "    mycursor = mydb.cursor()"
   ]
  },
  {
   "cell_type": "code",
   "execution_count": null,
   "id": "bef85140-f0f4-40d1-ba72-4cdb9757a800",
   "metadata": {},
   "outputs": [],
   "source": [
    "#Inserting datas to table, scraped from redbus website\n",
    "insert_data = '''INSERT INTO bus_details(\n",
    "Route_Name,\n",
    "Route_Link,\n",
    "Bus_Name,\n",
    "Bus_Type,\n",
    "Departing_Time,\n",
    "Duration,\n",
    "Reaching_Time,\n",
    "Star_Rating,\n",
    "Price,\n",
    "Seats_available)\n",
    "VALUES(%s,%s,%s,%s,%s,%s,%s,%s,%s,%s)'''\n",
    "\n",
    "data = final_df.values.tolist()\n",
    "batch_size = 1000  # Adjust this value as needed\n",
    "\n",
    "for i in range(0, len(data), batch_size):\n",
    "    batch_data = data[i:i + batch_size]\n",
    "    try:\n",
    "        # Performing batch insert with executemany()\n",
    "        mycursor.executemany(insert_data, batch_data)\n",
    "        mydb.commit()\n",
    "    except mysql.connector.Error as err:\n",
    "        if err.errno == mysql.connector.errorcode.CR_SERVER_LOST or err.errno == mysql.connector.errorcode.CR_SERVER_GONE_ERROR:\n",
    "            reconnect()\n",
    "            mycursor.executemany(insert_data, batch_data)\n",
    "            mydb.commit()"
   ]
  }
 ],
 "metadata": {
  "kernelspec": {
   "display_name": "Python 3 (ipykernel)",
   "language": "python",
   "name": "python3"
  },
  "language_info": {
   "codemirror_mode": {
    "name": "ipython",
    "version": 3
   },
   "file_extension": ".py",
   "mimetype": "text/x-python",
   "name": "python",
   "nbconvert_exporter": "python",
   "pygments_lexer": "ipython3",
   "version": "3.12.4"
  }
 },
 "nbformat": 4,
 "nbformat_minor": 5
}
